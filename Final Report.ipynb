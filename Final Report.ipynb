{
 "cells": [
  {
   "cell_type": "markdown",
   "metadata": {},
   "source": [
    "Predicting the location of a cafe in New York \n",
    "\n",
    "1.Introduction\n",
    "\n",
    "New York City is the most populous and the most densely populated major city in the United States. Many districts and landmarks in New York City are well known, including three of the world’s ten most visited tourist attractions in 2013. It is import to find a good location to open a cafe in a busy city like New York City and it will be necessary to check other factors before starting a new business. \n",
    "\n",
    "Data that might contribute to determining the location might include the avenue, number of other cafes around, reviews of other cafes, and distance from the offices. This project aims to predict where the cafe will be located based on these data. \n",
    "\n",
    "It would be interesting to predict the best location for the new cafe in NewYork for competing other cafes. \n",
    "\n",
    "\n",
    "\n",
    "2.Data\n",
    "\n",
    "Names of cafes, address, latitude, longitude, distance can be found in datasets from here using Foursquare location data which I can check the avenue, number of other cafes nearby and distances from the offices.  'https://api.foursquare.com/v2/venues/search?client_id={}&client_secret={}&ll={},{}&v={}&query={}&radius={}&limit={}'.format(CLIENT_ID, CLIENT_SECRET, latitude, longitude, VERSION, search_query, radius, LIMIT) Also getting user’s tips will be used from here to compare other cafes’ reviews. 'https://api.foursquare.com/v2/users/{}/tips?client_id={}&client_secret={}&v={}&limit={}'.format(user_id, CLIENT_ID, CLIENT_SECRET, VERSION, limit) Datas that might not need for those information will be removed and sorted.\n"
   ]
  },
  {
   "cell_type": "code",
   "execution_count": null,
   "metadata": {},
   "outputs": [],
   "source": []
  }
 ],
 "metadata": {
  "kernelspec": {
   "display_name": "Python",
   "language": "python",
   "name": "conda-env-python-py"
  },
  "language_info": {
   "codemirror_mode": {
    "name": "ipython",
    "version": 3
   },
   "file_extension": ".py",
   "mimetype": "text/x-python",
   "name": "python",
   "nbconvert_exporter": "python",
   "pygments_lexer": "ipython3",
   "version": "3.6.11"
  }
 },
 "nbformat": 4,
 "nbformat_minor": 4
}
